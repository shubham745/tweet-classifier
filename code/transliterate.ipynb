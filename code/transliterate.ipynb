{
 "cells": [
  {
   "cell_type": "code",
   "execution_count": 4,
   "metadata": {
    "collapsed": false
   },
   "outputs": [
    {
     "name": "stdout",
     "output_type": "stream",
     "text": [
      "['dhundhega', 'schimd', 'oparcunity', 'karnashukti', 'swarchitt', 'narmai', 'sampadit', 'asampadit', 'shwaapad', 'ek-varshiya']\n"
     ]
    }
   ],
   "source": [
    "from indictrans import Transliterator\n",
    "trn = Transliterator(source='hin', target='eng', build_lookup=True)\n",
    "x_orig = []\n",
    "y_orig = []\n",
    "with open (\"hi_IN\") as fl:\n",
    "    for l in fl:\n",
    "        x_orig.append (trn.transform(l.strip ()))\n",
    "\n",
    "print(x_orig[:10])"
   ]
  },
  {
   "cell_type": "code",
   "execution_count": 5,
   "metadata": {
    "collapsed": true
   },
   "outputs": [],
   "source": [
    "with open('hi_en1', 'a') as the_file:\n",
    "    for l in x_orig:\n",
    "        the_file.write(l)\n",
    "        the_file.write('\\n')\n",
    "        \n",
    "the_file.close()"
   ]
  },
  {
   "cell_type": "code",
   "execution_count": 7,
   "metadata": {
    "collapsed": false
   },
   "outputs": [
    {
     "name": "stdout",
     "output_type": "stream",
     "text": [
      "रामायण से मुझे बहुत कुछ सिकने मिला हैं\n"
     ]
    }
   ],
   "source": [
    "trn = Transliterator(source='eng', target='hin', build_lookup=True)\n",
    "\n",
    "print(trn.transform(\"ramayan se mujhe bahut kuch sikne mila hai\"))"
   ]
  },
  {
   "cell_type": "code",
   "execution_count": null,
   "metadata": {
    "collapsed": true
   },
   "outputs": [],
   "source": []
  }
 ],
 "metadata": {
  "anaconda-cloud": {},
  "kernelspec": {
   "display_name": "Python [Root]",
   "language": "python",
   "name": "Python [Root]"
  },
  "language_info": {
   "codemirror_mode": {
    "name": "ipython",
    "version": 3
   },
   "file_extension": ".py",
   "mimetype": "text/x-python",
   "name": "python",
   "nbconvert_exporter": "python",
   "pygments_lexer": "ipython3",
   "version": "3.5.2"
  }
 },
 "nbformat": 4,
 "nbformat_minor": 0
}
